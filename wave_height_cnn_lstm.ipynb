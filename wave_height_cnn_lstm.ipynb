{
 "cells": [
  {
   "cell_type": "code",
   "execution_count": 339,
   "metadata": {},
   "outputs": [],
   "source": [
    "import keras\n",
    "from keras.layers import Dense, LSTM, Flatten, TimeDistributed, Conv2D, Dropout, MaxPooling2D\n",
    "from keras import Sequential\n",
    "from keras.applications.vgg16 import VGG16\n",
    "from keras.applications.mobilenet import MobileNet\n",
    "from keras.preprocessing import image\n",
    "import keras.metrics as metrics\n",
    "from keras.callbacks import ReduceLROnPlateau, EarlyStopping, ModelCheckpoint\n",
    "from sklearn.metrics import mean_squared_error\n",
    "import numpy as np\n",
    "from PIL import Image\n",
    "import glob\n",
    "import pandas as pd\n",
    "import datetime\n",
    "import matplotlib.pyplot as plt\n",
    "%matplotlib inline"
   ]
  },
  {
   "cell_type": "code",
   "execution_count": 2,
   "metadata": {},
   "outputs": [],
   "source": [
    "#get image file names\n",
    "file_glob = glob.glob('Fixed_Images/*.jpg')"
   ]
  },
  {
   "cell_type": "code",
   "execution_count": 3,
   "metadata": {},
   "outputs": [],
   "source": [
    "data = pd.read_csv('dataset.csv') \n",
    "df = data.copy()"
   ]
  },
  {
   "cell_type": "code",
   "execution_count": 4,
   "metadata": {},
   "outputs": [],
   "source": [
    "#drop duplicates found in WVHTft with nan\n",
    "df.drop_duplicates(['GSTkts', 'WDIR', 'WSPDkts', 'time_stamp'], keep='first', inplace = True)"
   ]
  },
  {
   "cell_type": "code",
   "execution_count": 5,
   "metadata": {},
   "outputs": [],
   "source": [
    "df.sort_values(by = 'time_stamp', inplace = True)"
   ]
  },
  {
   "cell_type": "code",
   "execution_count": 6,
   "metadata": {},
   "outputs": [],
   "source": [
    "df = df.reset_index(drop = True)"
   ]
  },
  {
   "cell_type": "code",
   "execution_count": 7,
   "metadata": {},
   "outputs": [],
   "source": [
    "df.time_stamp = pd.to_datetime(df.time_stamp)"
   ]
  },
  {
   "cell_type": "code",
   "execution_count": 8,
   "metadata": {},
   "outputs": [
    {
     "name": "stdout",
     "output_type": "stream",
     "text": [
      "<class 'pandas.core.frame.DataFrame'>\n",
      "RangeIndex: 8980 entries, 0 to 8979\n",
      "Data columns (total 5 columns):\n",
      "GSTkts        8980 non-null float64\n",
      "WDIR          8980 non-null object\n",
      "WSPDkts       8980 non-null float64\n",
      "WVHTft        1479 non-null float64\n",
      "time_stamp    8980 non-null datetime64[ns]\n",
      "dtypes: datetime64[ns](1), float64(3), object(1)\n",
      "memory usage: 350.9+ KB\n"
     ]
    }
   ],
   "source": [
    "df.info()"
   ]
  },
  {
   "cell_type": "code",
   "execution_count": 9,
   "metadata": {},
   "outputs": [],
   "source": [
    "#takes in string name of image file, returns datetime object offset to match image time\n",
    "def get_time_stamp(name):\n",
    "    p = 0\n",
    "    img_date = name.split('_')[2:4]\n",
    "    img_edt = int(name.split('_')[-1:][0].split('.')[0])\n",
    "    img_edt = str(img_edt).zfill(4) \n",
    "    img_edt = list(img_edt)\n",
    "    img_edt[-2:] = ['4', '0'] #change all to 40min\n",
    "    img_edt = ''.join(img_edt)\n",
    "    img_edt = str(img_edt)\n",
    "    date = '{}-{}-{} {}' .format('2020', img_date[0], img_date[1], img_edt)\n",
    "    date = pd.to_datetime(date)\n",
    "    return date"
   ]
  },
  {
   "cell_type": "code",
   "execution_count": 436,
   "metadata": {},
   "outputs": [],
   "source": [
    "mn = MobileNet(include_top=False, weights='imagenet', input_shape=(224, 224, 3))"
   ]
  },
  {
   "cell_type": "code",
   "execution_count": 437,
   "metadata": {},
   "outputs": [],
   "source": [
    "model = Sequential()\n",
    "model.add(TimeDistributed(mn, input_shape=(6, 224, 224, 3)))\n",
    "model.add(TimeDistributed(MaxPooling2D(pool_size=(2, 2), strides=(2, 2))))\n",
    "model.add(TimeDistributed(MaxPooling2D()))\n",
    "model.add(TimeDistributed(Flatten()))"
   ]
  },
  {
   "cell_type": "code",
   "execution_count": 247,
   "metadata": {},
   "outputs": [],
   "source": [
    "num_targets = 500\n",
    "\n",
    "#input string img_path, returns tensors list from 6 image slices, and int target\n",
    "def get_tensors_and_targets(file_names):\n",
    "    targets = []\n",
    "    tensor_stack = []\n",
    "    for f in file_names:\n",
    "        img_time = get_time_stamp(f)\n",
    "        target = df.query('time_stamp == @img_time')['WVHTft'] #gets wvht from match in database\n",
    "        if len(target) == 0:\n",
    "            print(img_paths)\n",
    "        else:\n",
    "            targets.append(target.values[0])\n",
    "        img = image.load_img(f, target_size=(260, 1344))\n",
    "        img_arr = np.array(img)\n",
    "        list_of_tensors = []\n",
    "        for i in range(0,6):\n",
    "            slice_show = i\n",
    "            slice_size = 1344/6\n",
    "            img_slice = img_arr[:224, slice_size * slice_show:slice_size * (slice_show + 1), :]\n",
    "            list_of_tensors.append(np.expand_dims(img_slice, axis=0).astype('float32')/255)\n",
    "        tensor_stack.append(np.vstack(list_of_tensors))\n",
    "    return tensor_stack, targets\n",
    "\n",
    "tensor_stack, targets = get_tensors_and_targets(file_glob[:-1])"
   ]
  },
  {
   "cell_type": "code",
   "execution_count": 345,
   "metadata": {},
   "outputs": [],
   "source": [
    "predictions = []\n",
    "for t in tensor_stack:\n",
    "    t = np.array(t).reshape(1, 6, 224, 224, 3)\n",
    "    preds = model.predict(t)\n",
    "    predictions.append(preds)"
   ]
  },
  {
   "cell_type": "code",
   "execution_count": 346,
   "metadata": {},
   "outputs": [],
   "source": [
    "output_size = 1024"
   ]
  },
  {
   "cell_type": "code",
   "execution_count": 347,
   "metadata": {},
   "outputs": [],
   "source": [
    "x_train = np.array(predictions[:num_targets]).reshape(num_targets, 6, output_size)\n",
    "x_test = np.array(predictions[num_targets:]).reshape((len(targets) - num_targets), 6, output_size)"
   ]
  },
  {
   "cell_type": "code",
   "execution_count": 349,
   "metadata": {},
   "outputs": [
    {
     "data": {
      "text/plain": [
       "True"
      ]
     },
     "execution_count": 349,
     "metadata": {},
     "output_type": "execute_result"
    }
   ],
   "source": [
    "#check for inf or nan\n",
    "np.isfinite(x_train).all()"
   ]
  },
  {
   "cell_type": "code",
   "execution_count": 350,
   "metadata": {},
   "outputs": [
    {
     "name": "stdout",
     "output_type": "stream",
     "text": [
      "True\n"
     ]
    }
   ],
   "source": [
    "#fill nan targets with 3\n",
    "targets = pd.Series(targets)\n",
    "new_targets = targets.fillna(3)\n",
    "new_targets = np.array(new_targets)\n",
    "print(np.isfinite(new_targets).all())\n",
    "y_train = new_targets[:num_targets]\n",
    "y_test = new_targets[num_targets:]"
   ]
  },
  {
   "cell_type": "code",
   "execution_count": 458,
   "metadata": {},
   "outputs": [],
   "source": [
    "reduce_lr = ReduceLROnPlateau(monitor = 'loss', factor = 0.2, patience = 5, min_lr = 0.0001, verbose = 1)\n",
    "early_stop = EarlyStopping(monitor = 'loss', patience = 10)\n",
    "checkpoint = ModelCheckpoint(filepath = 'base_model', monitor = 'loss', save_best_only = True, verbose = 1)\n",
    "callback_list = [checkpoint, early_stop, reduce_lr]"
   ]
  },
  {
   "cell_type": "code",
   "execution_count": 459,
   "metadata": {},
   "outputs": [
    {
     "name": "stdout",
     "output_type": "stream",
     "text": [
      "Model: \"sequential_36\"\n",
      "_________________________________________________________________\n",
      "Layer (type)                 Output Shape              Param #   \n",
      "=================================================================\n",
      "lstm_57 (LSTM)               (None, 6, 128)            590336    \n",
      "_________________________________________________________________\n",
      "lstm_58 (LSTM)               (None, 128)               131584    \n",
      "_________________________________________________________________\n",
      "dense_25 (Dense)             (None, 1)                 129       \n",
      "=================================================================\n",
      "Total params: 722,049\n",
      "Trainable params: 722,049\n",
      "Non-trainable params: 0\n",
      "_________________________________________________________________\n"
     ]
    }
   ],
   "source": [
    "#build model\n",
    "lstm = Sequential()\n",
    "lstm.add(LSTM(128, return_sequences = True, input_shape = (6, output_size), dropout = .4))\n",
    "lstm.add(LSTM(128, dropout = .2))\n",
    "lstm.add(Dense(1))\n",
    "lstm.compile(loss='mse', optimizer='adam', metrics = [metrics.mean_squared_error])\n",
    "lstm.summary()"
   ]
  },
  {
   "cell_type": "code",
   "execution_count": 460,
   "metadata": {
    "scrolled": false
   },
   "outputs": [
    {
     "name": "stdout",
     "output_type": "stream",
     "text": [
      "Train on 375 samples, validate on 125 samples\n",
      "Epoch 1/50\n",
      "375/375 [==============================] - 4s 12ms/step - loss: 10.4229 - mean_squared_error: 10.4229 - val_loss: 2.2507 - val_mean_squared_error: 2.2507\n",
      "\n",
      "Epoch 00001: loss improved from inf to 10.42290, saving model to base_model\n",
      "Epoch 2/50\n",
      "375/375 [==============================] - 1s 2ms/step - loss: 6.2413 - mean_squared_error: 6.2413 - val_loss: 1.6199 - val_mean_squared_error: 1.6199\n",
      "\n",
      "Epoch 00002: loss improved from 10.42290 to 6.24127, saving model to base_model\n",
      "Epoch 3/50\n",
      "375/375 [==============================] - 1s 2ms/step - loss: 5.6270 - mean_squared_error: 5.6270 - val_loss: 0.6986 - val_mean_squared_error: 0.6986\n",
      "\n",
      "Epoch 00003: loss improved from 6.24127 to 5.62697, saving model to base_model\n",
      "Epoch 4/50\n",
      "375/375 [==============================] - 1s 2ms/step - loss: 4.5137 - mean_squared_error: 4.5137 - val_loss: 0.7954 - val_mean_squared_error: 0.7954\n",
      "\n",
      "Epoch 00004: loss improved from 5.62697 to 4.51370, saving model to base_model\n",
      "Epoch 5/50\n",
      "375/375 [==============================] - 1s 2ms/step - loss: 3.2795 - mean_squared_error: 3.2795 - val_loss: 1.0614 - val_mean_squared_error: 1.0614\n",
      "\n",
      "Epoch 00005: loss improved from 4.51370 to 3.27947, saving model to base_model\n",
      "Epoch 6/50\n",
      "375/375 [==============================] - 1s 2ms/step - loss: 2.4562 - mean_squared_error: 2.4562 - val_loss: 0.8059 - val_mean_squared_error: 0.8059\n",
      "\n",
      "Epoch 00006: loss improved from 3.27947 to 2.45622, saving model to base_model\n",
      "Epoch 7/50\n",
      "375/375 [==============================] - 1s 2ms/step - loss: 2.1245 - mean_squared_error: 2.1245 - val_loss: 1.2609 - val_mean_squared_error: 1.2609\n",
      "\n",
      "Epoch 00007: loss improved from 2.45622 to 2.12447, saving model to base_model\n",
      "Epoch 8/50\n",
      "375/375 [==============================] - 1s 3ms/step - loss: 1.8655 - mean_squared_error: 1.8655 - val_loss: 0.6653 - val_mean_squared_error: 0.6653\n",
      "\n",
      "Epoch 00008: loss improved from 2.12447 to 1.86553, saving model to base_model\n",
      "Epoch 9/50\n",
      "375/375 [==============================] - 1s 2ms/step - loss: 1.7750 - mean_squared_error: 1.7750 - val_loss: 0.9042 - val_mean_squared_error: 0.9042\n",
      "\n",
      "Epoch 00009: loss improved from 1.86553 to 1.77498, saving model to base_model\n",
      "Epoch 10/50\n",
      "375/375 [==============================] - 1s 3ms/step - loss: 2.0029 - mean_squared_error: 2.0029 - val_loss: 1.1808 - val_mean_squared_error: 1.1808\n",
      "\n",
      "Epoch 00010: loss did not improve from 1.77498\n",
      "Epoch 11/50\n",
      "375/375 [==============================] - 1s 2ms/step - loss: 2.1221 - mean_squared_error: 2.1221 - val_loss: 0.8900 - val_mean_squared_error: 0.8900\n",
      "\n",
      "Epoch 00011: loss did not improve from 1.77498\n",
      "Epoch 12/50\n",
      "375/375 [==============================] - 1s 2ms/step - loss: 1.6418 - mean_squared_error: 1.6418 - val_loss: 0.6474 - val_mean_squared_error: 0.6474\n",
      "\n",
      "Epoch 00012: loss improved from 1.77498 to 1.64177, saving model to base_model\n",
      "Epoch 13/50\n",
      "375/375 [==============================] - 1s 3ms/step - loss: 1.4494 - mean_squared_error: 1.4494 - val_loss: 0.9020 - val_mean_squared_error: 0.9020\n",
      "\n",
      "Epoch 00013: loss improved from 1.64177 to 1.44935, saving model to base_model\n",
      "Epoch 14/50\n",
      "375/375 [==============================] - 1s 3ms/step - loss: 1.3934 - mean_squared_error: 1.3934 - val_loss: 1.0104 - val_mean_squared_error: 1.0104\n",
      "\n",
      "Epoch 00014: loss improved from 1.44935 to 1.39338, saving model to base_model\n",
      "Epoch 15/50\n",
      "375/375 [==============================] - 1s 2ms/step - loss: 1.2376 - mean_squared_error: 1.2376 - val_loss: 0.6827 - val_mean_squared_error: 0.6827\n",
      "\n",
      "Epoch 00015: loss improved from 1.39338 to 1.23758, saving model to base_model\n",
      "Epoch 16/50\n",
      "375/375 [==============================] - 1s 2ms/step - loss: 1.2601 - mean_squared_error: 1.2601 - val_loss: 0.8111 - val_mean_squared_error: 0.8111\n",
      "\n",
      "Epoch 00016: loss did not improve from 1.23758\n",
      "Epoch 17/50\n",
      "375/375 [==============================] - 1s 2ms/step - loss: 1.2227 - mean_squared_error: 1.2227 - val_loss: 0.7991 - val_mean_squared_error: 0.7991\n",
      "\n",
      "Epoch 00017: loss improved from 1.23758 to 1.22274, saving model to base_model\n",
      "Epoch 18/50\n",
      "375/375 [==============================] - 1s 3ms/step - loss: 1.0104 - mean_squared_error: 1.0104 - val_loss: 0.7783 - val_mean_squared_error: 0.7783\n",
      "\n",
      "Epoch 00018: loss improved from 1.22274 to 1.01037, saving model to base_model\n",
      "Epoch 19/50\n",
      "375/375 [==============================] - 1s 3ms/step - loss: 0.9248 - mean_squared_error: 0.9248 - val_loss: 0.6922 - val_mean_squared_error: 0.6922\n",
      "\n",
      "Epoch 00019: loss improved from 1.01037 to 0.92480, saving model to base_model\n",
      "Epoch 20/50\n",
      "375/375 [==============================] - 1s 3ms/step - loss: 1.1793 - mean_squared_error: 1.1793 - val_loss: 0.6914 - val_mean_squared_error: 0.6914\n",
      "\n",
      "Epoch 00020: loss did not improve from 0.92480\n",
      "Epoch 21/50\n",
      "375/375 [==============================] - 1s 3ms/step - loss: 1.0310 - mean_squared_error: 1.0310 - val_loss: 0.6575 - val_mean_squared_error: 0.6575\n",
      "\n",
      "Epoch 00021: loss did not improve from 0.92480\n",
      "Epoch 22/50\n",
      "375/375 [==============================] - 1s 3ms/step - loss: 0.8262 - mean_squared_error: 0.8262 - val_loss: 0.6567 - val_mean_squared_error: 0.6567\n",
      "\n",
      "Epoch 00022: loss improved from 0.92480 to 0.82622, saving model to base_model\n",
      "Epoch 23/50\n",
      "375/375 [==============================] - 1s 3ms/step - loss: 0.9064 - mean_squared_error: 0.9064 - val_loss: 0.7566 - val_mean_squared_error: 0.7566\n",
      "\n",
      "Epoch 00023: loss did not improve from 0.82622\n",
      "Epoch 24/50\n",
      "375/375 [==============================] - 1s 3ms/step - loss: 0.8363 - mean_squared_error: 0.8363 - val_loss: 0.7778 - val_mean_squared_error: 0.7778\n",
      "\n",
      "Epoch 00024: loss did not improve from 0.82622\n",
      "Epoch 25/50\n",
      "375/375 [==============================] - 1s 3ms/step - loss: 0.8083 - mean_squared_error: 0.8083 - val_loss: 0.7180 - val_mean_squared_error: 0.7180\n",
      "\n",
      "Epoch 00025: loss improved from 0.82622 to 0.80827, saving model to base_model\n",
      "Epoch 26/50\n",
      "375/375 [==============================] - 1s 3ms/step - loss: 0.7330 - mean_squared_error: 0.7330 - val_loss: 0.9124 - val_mean_squared_error: 0.9124\n",
      "\n",
      "Epoch 00026: loss improved from 0.80827 to 0.73302, saving model to base_model\n",
      "Epoch 27/50\n",
      "375/375 [==============================] - 1s 3ms/step - loss: 0.8227 - mean_squared_error: 0.8227 - val_loss: 0.7169 - val_mean_squared_error: 0.7169\n",
      "\n",
      "Epoch 00027: loss did not improve from 0.73302\n",
      "Epoch 28/50\n",
      "375/375 [==============================] - 1s 3ms/step - loss: 0.7336 - mean_squared_error: 0.7336 - val_loss: 0.7101 - val_mean_squared_error: 0.7101\n",
      "\n",
      "Epoch 00028: loss did not improve from 0.73302\n",
      "Epoch 29/50\n",
      "375/375 [==============================] - 1s 3ms/step - loss: 0.8075 - mean_squared_error: 0.8075 - val_loss: 1.0633 - val_mean_squared_error: 1.0633\n",
      "\n",
      "Epoch 00029: loss did not improve from 0.73302\n",
      "Epoch 30/50\n",
      "375/375 [==============================] - 1s 3ms/step - loss: 0.7530 - mean_squared_error: 0.7530 - val_loss: 1.0779 - val_mean_squared_error: 1.0779\n",
      "\n",
      "Epoch 00030: loss did not improve from 0.73302\n",
      "Epoch 31/50\n",
      "375/375 [==============================] - 1s 3ms/step - loss: 0.6571 - mean_squared_error: 0.6571 - val_loss: 0.8134 - val_mean_squared_error: 0.8134\n",
      "\n",
      "Epoch 00031: loss improved from 0.73302 to 0.65709, saving model to base_model\n",
      "Epoch 32/50\n",
      "375/375 [==============================] - 1s 3ms/step - loss: 0.6322 - mean_squared_error: 0.6322 - val_loss: 1.0810 - val_mean_squared_error: 1.0810\n",
      "\n",
      "Epoch 00032: loss improved from 0.65709 to 0.63216, saving model to base_model\n",
      "Epoch 33/50\n",
      "375/375 [==============================] - 1s 3ms/step - loss: 0.7768 - mean_squared_error: 0.7768 - val_loss: 0.9429 - val_mean_squared_error: 0.9429\n",
      "\n",
      "Epoch 00033: loss did not improve from 0.63216\n",
      "Epoch 34/50\n",
      "375/375 [==============================] - 1s 3ms/step - loss: 0.6678 - mean_squared_error: 0.6678 - val_loss: 0.7785 - val_mean_squared_error: 0.7785\n",
      "\n",
      "Epoch 00034: loss did not improve from 0.63216\n",
      "Epoch 35/50\n",
      "375/375 [==============================] - 1s 3ms/step - loss: 0.5686 - mean_squared_error: 0.5686 - val_loss: 1.0159 - val_mean_squared_error: 1.0159\n",
      "\n",
      "Epoch 00035: loss improved from 0.63216 to 0.56863, saving model to base_model\n",
      "Epoch 36/50\n"
     ]
    },
    {
     "name": "stdout",
     "output_type": "stream",
     "text": [
      "375/375 [==============================] - 1s 3ms/step - loss: 0.5990 - mean_squared_error: 0.5990 - val_loss: 0.8458 - val_mean_squared_error: 0.8458\n",
      "\n",
      "Epoch 00036: loss did not improve from 0.56863\n",
      "Epoch 37/50\n",
      "375/375 [==============================] - 1s 3ms/step - loss: 0.6463 - mean_squared_error: 0.6463 - val_loss: 1.2912 - val_mean_squared_error: 1.2912\n",
      "\n",
      "Epoch 00037: loss did not improve from 0.56863\n",
      "Epoch 38/50\n",
      "375/375 [==============================] - 1s 3ms/step - loss: 0.6631 - mean_squared_error: 0.6631 - val_loss: 1.1253 - val_mean_squared_error: 1.1253\n",
      "\n",
      "Epoch 00038: loss did not improve from 0.56863\n",
      "Epoch 39/50\n",
      "375/375 [==============================] - 1s 3ms/step - loss: 0.5411 - mean_squared_error: 0.5411 - val_loss: 0.9805 - val_mean_squared_error: 0.9805\n",
      "\n",
      "Epoch 00039: loss improved from 0.56863 to 0.54110, saving model to base_model\n",
      "Epoch 40/50\n",
      "375/375 [==============================] - 1s 3ms/step - loss: 0.5717 - mean_squared_error: 0.5717 - val_loss: 1.1373 - val_mean_squared_error: 1.1373\n",
      "\n",
      "Epoch 00040: loss did not improve from 0.54110\n",
      "Epoch 41/50\n",
      "375/375 [==============================] - 1s 3ms/step - loss: 0.4750 - mean_squared_error: 0.4750 - val_loss: 0.8998 - val_mean_squared_error: 0.8998\n",
      "\n",
      "Epoch 00041: loss improved from 0.54110 to 0.47500, saving model to base_model\n",
      "Epoch 42/50\n",
      "375/375 [==============================] - 1s 3ms/step - loss: 0.4532 - mean_squared_error: 0.4532 - val_loss: 0.7956 - val_mean_squared_error: 0.7956\n",
      "\n",
      "Epoch 00042: loss improved from 0.47500 to 0.45320, saving model to base_model\n",
      "Epoch 43/50\n",
      "375/375 [==============================] - 1s 3ms/step - loss: 0.4778 - mean_squared_error: 0.4778 - val_loss: 1.0321 - val_mean_squared_error: 1.0321\n",
      "\n",
      "Epoch 00043: loss did not improve from 0.45320\n",
      "Epoch 44/50\n",
      "375/375 [==============================] - 1s 3ms/step - loss: 0.4856 - mean_squared_error: 0.4856 - val_loss: 0.8898 - val_mean_squared_error: 0.8898\n",
      "\n",
      "Epoch 00044: loss did not improve from 0.45320\n",
      "Epoch 45/50\n",
      "375/375 [==============================] - 1s 3ms/step - loss: 0.4673 - mean_squared_error: 0.4673 - val_loss: 0.9390 - val_mean_squared_error: 0.9390\n",
      "\n",
      "Epoch 00045: loss did not improve from 0.45320\n",
      "Epoch 46/50\n",
      "375/375 [==============================] - 1s 3ms/step - loss: 0.4410 - mean_squared_error: 0.4410 - val_loss: 0.9493 - val_mean_squared_error: 0.9493\n",
      "\n",
      "Epoch 00046: loss improved from 0.45320 to 0.44104, saving model to base_model\n",
      "Epoch 47/50\n",
      "375/375 [==============================] - 1s 3ms/step - loss: 0.4318 - mean_squared_error: 0.4318 - val_loss: 0.7557 - val_mean_squared_error: 0.7557\n",
      "\n",
      "Epoch 00047: loss improved from 0.44104 to 0.43179, saving model to base_model\n",
      "Epoch 48/50\n",
      "375/375 [==============================] - 1s 3ms/step - loss: 0.4584 - mean_squared_error: 0.4584 - val_loss: 0.8633 - val_mean_squared_error: 0.8633\n",
      "\n",
      "Epoch 00048: loss did not improve from 0.43179\n",
      "Epoch 49/50\n",
      "375/375 [==============================] - 1s 3ms/step - loss: 0.5303 - mean_squared_error: 0.5303 - val_loss: 0.8279 - val_mean_squared_error: 0.8279\n",
      "\n",
      "Epoch 00049: loss did not improve from 0.43179\n",
      "Epoch 50/50\n",
      "375/375 [==============================] - 1s 3ms/step - loss: 0.3910 - mean_squared_error: 0.3910 - val_loss: 0.9286 - val_mean_squared_error: 0.9286\n",
      "\n",
      "Epoch 00050: loss improved from 0.43179 to 0.39099, saving model to base_model\n"
     ]
    }
   ],
   "source": [
    "test_size = len(x_train)\n",
    "hist = lstm.fit(x_train, y_train, epochs = 50, callbacks = callback_list, validation_split = .25)"
   ]
  },
  {
   "cell_type": "code",
   "execution_count": 461,
   "metadata": {},
   "outputs": [
    {
     "data": {
      "image/png": "[encoded data removed]",
      "text/plain": [
       "<Figure size 432x288 with 1 Axes>"
      ]
     },
     "metadata": {
      "needs_background": "light"
     },
     "output_type": "display_data"
    }
   ],
   "source": [
    "plt.plot(hist.history['loss'])\n",
    "plt.plot(hist.history['val_loss']);"
   ]
  },
  {
   "cell_type": "code",
   "execution_count": 462,
   "metadata": {},
   "outputs": [],
   "source": [
    "lstm.load_weights('base_model')"
   ]
  },
  {
   "cell_type": "code",
   "execution_count": 471,
   "metadata": {},
   "outputs": [
    {
     "name": "stdout",
     "output_type": "stream",
     "text": [
      "Actual: 2.6 Predicted: [[2.8350923]]\n"
     ]
    }
   ],
   "source": [
    "num = 379\n",
    "p = x_train[num]\n",
    "p = p.reshape(1, 6, output_size)\n",
    "print('Actual: {} Predicted: {}' .format(y_train[num], lstm.predict(x_train[num:num + 1])))"
   ]
  },
  {
   "cell_type": "code",
   "execution_count": 476,
   "metadata": {},
   "outputs": [],
   "source": [
    "preds = lstm.predict(x_test)"
   ]
  },
  {
   "cell_type": "code",
   "execution_count": 477,
   "metadata": {},
   "outputs": [
    {
     "name": "stdout",
     "output_type": "stream",
     "text": [
      "MSE: 0.639977546818\n",
      "RMSE: 0.799985966638\n"
     ]
    }
   ],
   "source": [
    "mse = mean_squared_error(y_test, preds)\n",
    "print('MSE: {}' .format(mse))\n",
    "print('RMSE: {}' .format(np.sqrt(mse)))"
   ]
  },
  {
   "cell_type": "code",
   "execution_count": 414,
   "metadata": {},
   "outputs": [],
   "source": [
    "unified_mn = MobileNet(include_top=False, weights='imagenet', input_shape=(224, 224, 3))\n",
    "for layer in unified_mn.layers[:7]:\n",
    "    layer.trainable = False"
   ]
  },
  {
   "cell_type": "code",
   "execution_count": 415,
   "metadata": {},
   "outputs": [],
   "source": [
    "unified_model = Sequential()\n",
    "unified_model.add(TimeDistributed(unified_mn, input_shape=(6, 224, 224, 3)))\n",
    "unified_model.add(TimeDistributed(MaxPooling2D(pool_size=(2, 2), strides=(2, 2))))\n",
    "unified_model.add(TimeDistributed(MaxPooling2D()))\n",
    "unified_model.add(TimeDistributed(Flatten()))"
   ]
  },
  {
   "cell_type": "code",
   "execution_count": 416,
   "metadata": {},
   "outputs": [
    {
     "name": "stdout",
     "output_type": "stream",
     "text": [
      "Model: \"sequential_32\"\n",
      "_________________________________________________________________\n",
      "Layer (type)                 Output Shape              Param #   \n",
      "=================================================================\n",
      "time_distributed_47 (TimeDis (None, 6, 7, 7, 1024)     3228864   \n",
      "_________________________________________________________________\n",
      "time_distributed_48 (TimeDis (None, 6, 3, 3, 1024)     0         \n",
      "_________________________________________________________________\n",
      "time_distributed_49 (TimeDis (None, 6, 1, 1, 1024)     0         \n",
      "_________________________________________________________________\n",
      "time_distributed_50 (TimeDis (None, 6, 1024)           0         \n",
      "_________________________________________________________________\n",
      "lstm_51 (LSTM)               (None, 6, 128)            590336    \n",
      "_________________________________________________________________\n",
      "lstm_52 (LSTM)               (None, 128)               131584    \n",
      "_________________________________________________________________\n",
      "dense_22 (Dense)             (None, 1)                 129       \n",
      "=================================================================\n",
      "Total params: 3,950,913\n",
      "Trainable params: 3,927,745\n",
      "Non-trainable params: 23,168\n",
      "_________________________________________________________________\n"
     ]
    }
   ],
   "source": [
    "unified_model.add(LSTM(128, return_sequences = True))\n",
    "unified_model.add(LSTM(128, dropout = .2))\n",
    "unified_model.add(Dense(1))\n",
    "unified_model.compile(loss='mse', optimizer='adam', metrics = [metrics.mean_squared_error])\n",
    "unified_model.summary()"
   ]
  },
  {
   "cell_type": "code",
   "execution_count": 417,
   "metadata": {},
   "outputs": [
    {
     "data": {
      "text/plain": [
       "(554, 6, 224, 224, 3)"
      ]
     },
     "execution_count": 417,
     "metadata": {},
     "output_type": "execute_result"
    }
   ],
   "source": [
    "np.array(tensor_stack).shape"
   ]
  },
  {
   "cell_type": "code",
   "execution_count": 425,
   "metadata": {},
   "outputs": [
    {
     "data": {
      "text/plain": [
       "(6, 224, 224, 3)"
      ]
     },
     "execution_count": 425,
     "metadata": {},
     "output_type": "execute_result"
    }
   ],
   "source": [
    "tensor_stack[0].shape"
   ]
  },
  {
   "cell_type": "code",
   "execution_count": 427,
   "metadata": {},
   "outputs": [],
   "source": [
    "t = tensor_stack[0].reshape(1,6,224,224,3)"
   ]
  },
  {
   "cell_type": "code",
   "execution_count": 429,
   "metadata": {},
   "outputs": [
    {
     "name": "stdout",
     "output_type": "stream",
     "text": [
      "Epoch 1/2\n",
      "1/1 [==============================] - 26s 26s/step - loss: 209.0516 - mean_squared_error: 209.0516\n",
      "Epoch 2/2\n",
      "1/1 [==============================] - 2s 2s/step - loss: 162.6521 - mean_squared_error: 162.6521\n"
     ]
    }
   ],
   "source": [
    "t_hist = unified_model.fit(t, targets[:1], epochs = 2)"
   ]
  },
  {
   "cell_type": "code",
   "execution_count": null,
   "metadata": {},
   "outputs": [],
   "source": []
  }
 ],
 "metadata": {
  "kernelspec": {
   "display_name": "Python 2",
   "language": "python",
   "name": "python2"
  },
  "language_info": {
   "codemirror_mode": {
    "name": "ipython",
    "version": 2
   },
   "file_extension": ".py",
   "mimetype": "text/x-python",
   "name": "python",
   "nbconvert_exporter": "python",
   "pygments_lexer": "ipython2",
   "version": "2.7.17"
  }
 },
 "nbformat": 4,
 "nbformat_minor": 2
}
