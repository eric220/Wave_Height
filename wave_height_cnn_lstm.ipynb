{
 "cells": [
  {
   "cell_type": "code",
   "execution_count": 1,
   "metadata": {},
   "outputs": [
    {
     "name": "stderr",
     "output_type": "stream",
     "text": [
      "Using TensorFlow backend.\n"
     ]
    }
   ],
   "source": [
    "import keras\n",
    "from keras.layers import Dense, LSTM, Flatten, TimeDistributed, Conv2D, Dropout, MaxPooling2D\n",
    "from keras import Sequential\n",
    "from keras.applications.vgg16 import VGG16\n",
    "from keras.preprocessing import image\n",
    "import keras.metrics as metrics\n",
    "import numpy as np\n",
    "from PIL import Image\n",
    "import glob\n",
    "import pandas as pd\n",
    "import datetime\n",
    "import matplotlib.pyplot as plt\n",
    "%matplotlib inline"
   ]
  },
  {
   "cell_type": "code",
   "execution_count": 2,
   "metadata": {},
   "outputs": [],
   "source": [
    "#get image file names\n",
    "file_glob = glob.glob('Fixed_Images/*.jpg')"
   ]
  },
  {
   "cell_type": "code",
   "execution_count": 3,
   "metadata": {},
   "outputs": [],
   "source": [
    "data = pd.read_csv('dataset.csv') \n",
    "df = data.copy()"
   ]
  },
  {
   "cell_type": "code",
   "execution_count": 4,
   "metadata": {},
   "outputs": [],
   "source": [
    "df.drop_duplicates(['GSTkts', 'WDIR', 'WSPDkts', 'time_stamp'], keep='first', inplace = True)"
   ]
  },
  {
   "cell_type": "code",
   "execution_count": 5,
   "metadata": {},
   "outputs": [],
   "source": [
    "df.sort_values(by = 'time_stamp', inplace = True)"
   ]
  },
  {
   "cell_type": "code",
   "execution_count": 6,
   "metadata": {},
   "outputs": [],
   "source": [
    "df = df.reset_index(drop = True)"
   ]
  },
  {
   "cell_type": "code",
   "execution_count": 171,
   "metadata": {},
   "outputs": [],
   "source": [
    "#df.head()"
   ]
  },
  {
   "cell_type": "code",
   "execution_count": 8,
   "metadata": {},
   "outputs": [],
   "source": [
    "df.time_stamp = pd.to_datetime(df.time_stamp)"
   ]
  },
  {
   "cell_type": "code",
   "execution_count": 9,
   "metadata": {},
   "outputs": [
    {
     "name": "stdout",
     "output_type": "stream",
     "text": [
      "<class 'pandas.core.frame.DataFrame'>\n",
      "RangeIndex: 8953 entries, 0 to 8952\n",
      "Data columns (total 5 columns):\n",
      "GSTkts        8953 non-null float64\n",
      "WDIR          8953 non-null object\n",
      "WSPDkts       8953 non-null float64\n",
      "WVHTft        1474 non-null float64\n",
      "time_stamp    8953 non-null datetime64[ns]\n",
      "dtypes: datetime64[ns](1), float64(3), object(1)\n",
      "memory usage: 349.8+ KB\n"
     ]
    }
   ],
   "source": [
    "df.info()"
   ]
  },
  {
   "cell_type": "code",
   "execution_count": 10,
   "metadata": {},
   "outputs": [],
   "source": [
    "#return datetime object at time with wvht\n",
    "def get_time_stamp(name):\n",
    "    p = 0\n",
    "    img_date = name.split('_')[2:4]\n",
    "    img_edt = int(name.split('_')[-1:][0].split('.')[0])\n",
    "    img_edt = str(img_edt).zfill(4)\n",
    "    img_edt = list(img_edt)\n",
    "    img_edt[-2:] = ['4', '0']\n",
    "    img_edt = ''.join(img_edt)\n",
    "    img_edt = str(img_edt)\n",
    "    date = '{}-{}-{} {}' .format('2020', img_date[0], img_date[1], img_edt)\n",
    "    date = pd.to_datetime(date)\n",
    "    #date = date - datetime.timedelta(minutes=30)\n",
    "    return date"
   ]
  },
  {
   "cell_type": "code",
   "execution_count": 11,
   "metadata": {},
   "outputs": [],
   "source": [
    "vgg = VGG16(include_top=False, weights='imagenet', input_shape=(224, 224, 3))"
   ]
  },
  {
   "cell_type": "code",
   "execution_count": 12,
   "metadata": {},
   "outputs": [],
   "source": [
    "model = Sequential()\n",
    "model.add(TimeDistributed(vgg, input_shape=(6, 224, 224, 3)))\n",
    "model.add(TimeDistributed(MaxPooling2D(pool_size=(2, 2), strides=(2, 2))))\n",
    "model.add(TimeDistributed(MaxPooling2D()))\n",
    "model.add(TimeDistributed(Flatten()))"
   ]
  },
  {
   "cell_type": "code",
   "execution_count": 13,
   "metadata": {},
   "outputs": [
    {
     "name": "stdout",
     "output_type": "stream",
     "text": [
      "Model: \"sequential_1\"\n",
      "_________________________________________________________________\n",
      "Layer (type)                 Output Shape              Param #   \n",
      "=================================================================\n",
      "time_distributed_1 (TimeDist (None, 6, 7, 7, 512)      14714688  \n",
      "_________________________________________________________________\n",
      "time_distributed_2 (TimeDist (None, 6, 3, 3, 512)      0         \n",
      "_________________________________________________________________\n",
      "time_distributed_3 (TimeDist (None, 6, 1, 1, 512)      0         \n",
      "_________________________________________________________________\n",
      "time_distributed_4 (TimeDist (None, 6, 512)            0         \n",
      "=================================================================\n",
      "Total params: 14,714,688\n",
      "Trainable params: 14,714,688\n",
      "Non-trainable params: 0\n",
      "_________________________________________________________________\n"
     ]
    }
   ],
   "source": [
    "model.summary()"
   ]
  },
  {
   "cell_type": "code",
   "execution_count": 39,
   "metadata": {
    "scrolled": false
   },
   "outputs": [],
   "source": [
    "#returns tensor list from 6 image slices and target\n",
    "num_targets = 500\n",
    "targets = []\n",
    "tensor_stack = []\n",
    "def to_tensor(img_path):\n",
    "    img_time = get_time_stamp(img_path)\n",
    "    target = df.query('time_stamp == @img_time')['WVHTft']\n",
    "    if len(target) == 0:\n",
    "        failed_paths_new.append(img_path)\n",
    "    else:\n",
    "        targets.append(target.values[0])\n",
    "    img = image.load_img(img_path, target_size=(260, 1344))\n",
    "    img_arr = np.array(img)\n",
    "    list_of_tensors = []\n",
    "    for i in range(0,6):\n",
    "        slice_show = i\n",
    "        slice_size = 1344/6\n",
    "        img_slice = img_arr[:224, slice_size * slice_show:slice_size * (slice_show + 1), :]\n",
    "        list_of_tensors.append(np.expand_dims(img_slice, axis=0).astype('float32')/255)\n",
    "    return np.vstack(list_of_tensors) \n",
    "\n",
    "for f in file_glob[:num_targets]:\n",
    "    tensors = to_tensor(f)\n",
    "    tensor_stack.append(tensors)"
   ]
  },
  {
   "cell_type": "code",
   "execution_count": 40,
   "metadata": {},
   "outputs": [],
   "source": [
    "predictions = []\n",
    "for t in tensor_stack:\n",
    "    t = np.array(t).reshape(1, 6, 224, 224, 3)\n",
    "    preds = model.predict(t)\n",
    "    predictions.append(preds)"
   ]
  },
  {
   "cell_type": "code",
   "execution_count": 183,
   "metadata": {},
   "outputs": [],
   "source": [
    "from keras.optimizers import SGD\n",
    "opt = SGD(lr=0.01, momentum=0.9, clipnorm=1.0)"
   ]
  },
  {
   "cell_type": "code",
   "execution_count": 206,
   "metadata": {},
   "outputs": [
    {
     "name": "stdout",
     "output_type": "stream",
     "text": [
      "Model: \"sequential_15\"\n",
      "_________________________________________________________________\n",
      "Layer (type)                 Output Shape              Param #   \n",
      "=================================================================\n",
      "lstm_27 (LSTM)               (None, 6, 1024)           6295552   \n",
      "_________________________________________________________________\n",
      "lstm_28 (LSTM)               (None, 1024)              8392704   \n",
      "_________________________________________________________________\n",
      "dense_14 (Dense)             (None, 1)                 1025      \n",
      "=================================================================\n",
      "Total params: 14,689,281\n",
      "Trainable params: 14,689,281\n",
      "Non-trainable params: 0\n",
      "_________________________________________________________________\n"
     ]
    }
   ],
   "source": [
    "#build model\n",
    "lstm = Sequential()\n",
    "lstm.add(LSTM(1024, return_sequences = True, input_shape = (6, 512)))\n",
    "lstm.add(LSTM(1024))\n",
    "lstm.add(Dense(1))\n",
    "lstm.compile(loss='mse', optimizer='adam', metrics = [metrics.mean_squared_error])\n",
    "lstm.summary()"
   ]
  },
  {
   "cell_type": "code",
   "execution_count": 207,
   "metadata": {},
   "outputs": [
    {
     "data": {
      "text/plain": [
       "True"
      ]
     },
     "execution_count": 207,
     "metadata": {},
     "output_type": "execute_result"
    }
   ],
   "source": [
    "#check for inf or nan\n",
    "np.isfinite(x).all()"
   ]
  },
  {
   "cell_type": "code",
   "execution_count": 208,
   "metadata": {},
   "outputs": [],
   "source": [
    "#x = np.array(predictions).reshape(num_targets, 6, 512)"
   ]
  },
  {
   "cell_type": "code",
   "execution_count": 209,
   "metadata": {},
   "outputs": [
    {
     "name": "stdout",
     "output_type": "stream",
     "text": [
      "Epoch 1/125\n",
      "55/55 [==============================] - 4s 68ms/step - loss: 47.5814 - mean_squared_error: 47.5814\n",
      "Epoch 2/125\n",
      "55/55 [==============================] - 1s 20ms/step - loss: 67.8623 - mean_squared_error: 67.8623\n",
      "Epoch 3/125\n",
      "55/55 [==============================] - 1s 20ms/step - loss: 29.4702 - mean_squared_error: 29.4701\n",
      "Epoch 4/125\n",
      "55/55 [==============================] - 1s 19ms/step - loss: 17.4253 - mean_squared_error: 17.4253\n",
      "Epoch 5/125\n",
      "55/55 [==============================] - 1s 19ms/step - loss: 12.7499 - mean_squared_error: 12.7499\n",
      "Epoch 6/125\n",
      "55/55 [==============================] - 1s 19ms/step - loss: 11.8790 - mean_squared_error: 11.8790\n",
      "Epoch 7/125\n",
      "55/55 [==============================] - 1s 19ms/step - loss: 11.0392 - mean_squared_error: 11.0392\n",
      "Epoch 8/125\n",
      "55/55 [==============================] - 1s 19ms/step - loss: 10.8005 - mean_squared_error: 10.8005\n",
      "Epoch 9/125\n",
      "55/55 [==============================] - 1s 19ms/step - loss: 10.9262 - mean_squared_error: 10.9262\n",
      "Epoch 10/125\n",
      "55/55 [==============================] - 1s 20ms/step - loss: 11.1514 - mean_squared_error: 11.1514\n",
      "Epoch 11/125\n",
      "55/55 [==============================] - 1s 20ms/step - loss: 11.0165 - mean_squared_error: 11.0165\n",
      "Epoch 12/125\n",
      "55/55 [==============================] - 1s 20ms/step - loss: 10.8828 - mean_squared_error: 10.8828\n",
      "Epoch 13/125\n",
      "55/55 [==============================] - 1s 22ms/step - loss: 10.8196 - mean_squared_error: 10.8196\n",
      "Epoch 14/125\n",
      "55/55 [==============================] - 1s 20ms/step - loss: 10.9273 - mean_squared_error: 10.9273\n",
      "Epoch 15/125\n",
      "55/55 [==============================] - 1s 20ms/step - loss: 10.8224 - mean_squared_error: 10.8224\n",
      "Epoch 16/125\n",
      "55/55 [==============================] - 1s 21ms/step - loss: 10.6843 - mean_squared_error: 10.6843\n",
      "Epoch 17/125\n",
      "55/55 [==============================] - 1s 21ms/step - loss: 10.5595 - mean_squared_error: 10.5595\n",
      "Epoch 18/125\n",
      "55/55 [==============================] - 1s 24ms/step - loss: 10.5094 - mean_squared_error: 10.5094\n",
      "Epoch 19/125\n",
      "55/55 [==============================] - 1s 22ms/step - loss: 10.5016 - mean_squared_error: 10.5016\n",
      "Epoch 20/125\n",
      "55/55 [==============================] - 1s 21ms/step - loss: 10.4543 - mean_squared_error: 10.4543\n",
      "Epoch 21/125\n",
      "55/55 [==============================] - 1s 21ms/step - loss: 10.3332 - mean_squared_error: 10.3332\n",
      "Epoch 22/125\n",
      "55/55 [==============================] - 1s 22ms/step - loss: 10.1716 - mean_squared_error: 10.1716\n",
      "Epoch 23/125\n",
      "55/55 [==============================] - 1s 22ms/step - loss: 10.0659 - mean_squared_error: 10.0659\n",
      "Epoch 24/125\n",
      "55/55 [==============================] - 1s 20ms/step - loss: 9.9460 - mean_squared_error: 9.9460\n",
      "Epoch 25/125\n",
      "55/55 [==============================] - 1s 23ms/step - loss: 9.7133 - mean_squared_error: 9.7133\n",
      "Epoch 26/125\n",
      "55/55 [==============================] - 1s 23ms/step - loss: 9.4961 - mean_squared_error: 9.4961\n",
      "Epoch 27/125\n",
      "55/55 [==============================] - 1s 22ms/step - loss: 9.1419 - mean_squared_error: 9.1419\n",
      "Epoch 28/125\n",
      "55/55 [==============================] - 1s 21ms/step - loss: 8.8086 - mean_squared_error: 8.8086\n",
      "Epoch 29/125\n",
      "55/55 [==============================] - 1s 22ms/step - loss: 8.4607 - mean_squared_error: 8.4607\n",
      "Epoch 30/125\n",
      "55/55 [==============================] - 1s 21ms/step - loss: 7.6933 - mean_squared_error: 7.6933\n",
      "Epoch 31/125\n",
      "55/55 [==============================] - 1s 22ms/step - loss: 7.1580 - mean_squared_error: 7.1580\n",
      "Epoch 32/125\n",
      "55/55 [==============================] - 1s 21ms/step - loss: 6.3436 - mean_squared_error: 6.3436\n",
      "Epoch 33/125\n",
      "55/55 [==============================] - 1s 21ms/step - loss: 5.8769 - mean_squared_error: 5.8769\n",
      "Epoch 34/125\n",
      "55/55 [==============================] - 1s 21ms/step - loss: 5.2740 - mean_squared_error: 5.2740\n",
      "Epoch 35/125\n",
      "55/55 [==============================] - 1s 21ms/step - loss: 4.3753 - mean_squared_error: 4.3753\n",
      "Epoch 36/125\n",
      "55/55 [==============================] - 1s 21ms/step - loss: 3.0102 - mean_squared_error: 3.0102\n",
      "Epoch 37/125\n",
      "55/55 [==============================] - 1s 21ms/step - loss: 3.2025 - mean_squared_error: 3.2025\n",
      "Epoch 38/125\n",
      "55/55 [==============================] - 1s 21ms/step - loss: 2.7691 - mean_squared_error: 2.7691\n",
      "Epoch 39/125\n",
      "55/55 [==============================] - 1s 21ms/step - loss: 2.5271 - mean_squared_error: 2.5271\n",
      "Epoch 40/125\n",
      "55/55 [==============================] - 1s 21ms/step - loss: 2.3767 - mean_squared_error: 2.3767\n",
      "Epoch 41/125\n",
      "55/55 [==============================] - 1s 21ms/step - loss: 2.2454 - mean_squared_error: 2.2454\n",
      "Epoch 42/125\n",
      "55/55 [==============================] - 1s 21ms/step - loss: 1.9718 - mean_squared_error: 1.9718\n",
      "Epoch 43/125\n",
      "55/55 [==============================] - 1s 21ms/step - loss: 1.9080 - mean_squared_error: 1.9080\n",
      "Epoch 44/125\n",
      "55/55 [==============================] - 1s 21ms/step - loss: 1.9890 - mean_squared_error: 1.9890\n",
      "Epoch 45/125\n",
      "55/55 [==============================] - 1s 21ms/step - loss: 1.8223 - mean_squared_error: 1.8223\n",
      "Epoch 46/125\n",
      "55/55 [==============================] - 1s 21ms/step - loss: 1.8024 - mean_squared_error: 1.8024\n",
      "Epoch 47/125\n",
      "55/55 [==============================] - 1s 21ms/step - loss: 1.7962 - mean_squared_error: 1.7962\n",
      "Epoch 48/125\n",
      "55/55 [==============================] - 1s 21ms/step - loss: 1.5087 - mean_squared_error: 1.5087\n",
      "Epoch 49/125\n",
      "55/55 [==============================] - 1s 21ms/step - loss: 1.8326 - mean_squared_error: 1.8326\n",
      "Epoch 50/125\n",
      "55/55 [==============================] - 1s 21ms/step - loss: 1.4332 - mean_squared_error: 1.4332\n",
      "Epoch 51/125\n",
      "55/55 [==============================] - 1s 25ms/step - loss: 1.3930 - mean_squared_error: 1.3930\n",
      "Epoch 52/125\n",
      "55/55 [==============================] - 1s 23ms/step - loss: 1.3196 - mean_squared_error: 1.3196\n",
      "Epoch 53/125\n",
      "55/55 [==============================] - 1s 22ms/step - loss: 1.3103 - mean_squared_error: 1.3103\n",
      "Epoch 54/125\n",
      "55/55 [==============================] - 1s 23ms/step - loss: 1.3191 - mean_squared_error: 1.3191\n",
      "Epoch 55/125\n",
      "55/55 [==============================] - 1s 21ms/step - loss: 1.2562 - mean_squared_error: 1.2562\n",
      "Epoch 56/125\n",
      "55/55 [==============================] - 1s 23ms/step - loss: 1.2230 - mean_squared_error: 1.2230\n",
      "Epoch 57/125\n",
      "55/55 [==============================] - 1s 24ms/step - loss: 1.0947 - mean_squared_error: 1.0947\n",
      "Epoch 58/125\n",
      "55/55 [==============================] - 1s 21ms/step - loss: 1.0464 - mean_squared_error: 1.0464\n",
      "Epoch 59/125\n",
      "55/55 [==============================] - 1s 21ms/step - loss: 0.9425 - mean_squared_error: 0.9425\n",
      "Epoch 60/125\n",
      "55/55 [==============================] - 1s 23ms/step - loss: 0.9900 - mean_squared_error: 0.9900\n",
      "Epoch 61/125\n",
      "55/55 [==============================] - 1s 24ms/step - loss: 0.9312 - mean_squared_error: 0.9312\n",
      "Epoch 62/125\n",
      "55/55 [==============================] - 1s 24ms/step - loss: 0.8823 - mean_squared_error: 0.8823\n",
      "Epoch 63/125\n",
      "55/55 [==============================] - 1s 23ms/step - loss: 0.8159 - mean_squared_error: 0.8159\n",
      "Epoch 64/125\n",
      "55/55 [==============================] - 1s 23ms/step - loss: 0.7710 - mean_squared_error: 0.7710\n",
      "Epoch 65/125\n",
      "55/55 [==============================] - 1s 21ms/step - loss: 0.7600 - mean_squared_error: 0.7600\n",
      "Epoch 66/125\n",
      "55/55 [==============================] - 1s 22ms/step - loss: 0.7080 - mean_squared_error: 0.7080\n",
      "Epoch 67/125\n",
      "55/55 [==============================] - 1s 24ms/step - loss: 0.7170 - mean_squared_error: 0.7170\n",
      "Epoch 68/125\n",
      "55/55 [==============================] - 1s 22ms/step - loss: 0.5966 - mean_squared_error: 0.5966\n",
      "Epoch 69/125\n",
      "55/55 [==============================] - 1s 21ms/step - loss: 0.6391 - mean_squared_error: 0.6391\n",
      "Epoch 70/125\n",
      "55/55 [==============================] - 1s 22ms/step - loss: 0.5504 - mean_squared_error: 0.5504\n",
      "Epoch 71/125\n",
      "55/55 [==============================] - 1s 21ms/step - loss: 0.5617 - mean_squared_error: 0.5617\n",
      "Epoch 72/125\n",
      "55/55 [==============================] - 1s 22ms/step - loss: 0.4721 - mean_squared_error: 0.4721\n",
      "Epoch 73/125\n",
      "55/55 [==============================] - 1s 21ms/step - loss: 0.4658 - mean_squared_error: 0.4658\n",
      "Epoch 74/125\n"
     ]
    },
    {
     "name": "stdout",
     "output_type": "stream",
     "text": [
      "55/55 [==============================] - 1s 21ms/step - loss: 0.5875 - mean_squared_error: 0.5875\n",
      "Epoch 75/125\n",
      "55/55 [==============================] - 1s 23ms/step - loss: 0.4042 - mean_squared_error: 0.4042\n",
      "Epoch 76/125\n",
      "55/55 [==============================] - 1s 24ms/step - loss: 0.3699 - mean_squared_error: 0.3699\n",
      "Epoch 77/125\n",
      "55/55 [==============================] - 1s 23ms/step - loss: 0.4272 - mean_squared_error: 0.4272\n",
      "Epoch 78/125\n",
      "55/55 [==============================] - 1s 21ms/step - loss: 0.3120 - mean_squared_error: 0.3120\n",
      "Epoch 79/125\n",
      "55/55 [==============================] - 1s 21ms/step - loss: 0.2913 - mean_squared_error: 0.2913\n",
      "Epoch 80/125\n",
      "55/55 [==============================] - 1s 21ms/step - loss: 0.3227 - mean_squared_error: 0.3227\n",
      "Epoch 81/125\n",
      "55/55 [==============================] - 1s 24ms/step - loss: 0.3082 - mean_squared_error: 0.3082\n",
      "Epoch 82/125\n",
      "55/55 [==============================] - 2s 28ms/step - loss: 0.2936 - mean_squared_error: 0.2936\n",
      "Epoch 83/125\n",
      "55/55 [==============================] - 1s 27ms/step - loss: 0.3432 - mean_squared_error: 0.3432\n",
      "Epoch 84/125\n",
      "55/55 [==============================] - 1s 23ms/step - loss: 0.3218 - mean_squared_error: 0.3218\n",
      "Epoch 85/125\n",
      "55/55 [==============================] - 1s 23ms/step - loss: 0.2903 - mean_squared_error: 0.2903\n",
      "Epoch 86/125\n",
      "55/55 [==============================] - 1s 25ms/step - loss: 0.3617 - mean_squared_error: 0.3617\n",
      "Epoch 87/125\n",
      "55/55 [==============================] - 2s 28ms/step - loss: 0.4068 - mean_squared_error: 0.4068\n",
      "Epoch 88/125\n",
      "55/55 [==============================] - 1s 25ms/step - loss: 0.2647 - mean_squared_error: 0.2647\n",
      "Epoch 89/125\n",
      "55/55 [==============================] - 1s 24ms/step - loss: 0.2867 - mean_squared_error: 0.2867\n",
      "Epoch 90/125\n",
      "55/55 [==============================] - 1s 25ms/step - loss: 0.3164 - mean_squared_error: 0.3164\n",
      "Epoch 91/125\n",
      "55/55 [==============================] - 1s 22ms/step - loss: 0.3471 - mean_squared_error: 0.3471\n",
      "Epoch 92/125\n",
      "55/55 [==============================] - 1s 22ms/step - loss: 0.1685 - mean_squared_error: 0.1685\n",
      "Epoch 93/125\n",
      "55/55 [==============================] - 1s 22ms/step - loss: 0.2561 - mean_squared_error: 0.2561\n",
      "Epoch 94/125\n",
      "55/55 [==============================] - 1s 22ms/step - loss: 0.1539 - mean_squared_error: 0.1539\n",
      "Epoch 95/125\n",
      "55/55 [==============================] - 1s 23ms/step - loss: 0.1966 - mean_squared_error: 0.1966\n",
      "Epoch 96/125\n",
      "55/55 [==============================] - 1s 23ms/step - loss: 0.2201 - mean_squared_error: 0.2201\n",
      "Epoch 97/125\n",
      "55/55 [==============================] - 1s 21ms/step - loss: 0.1612 - mean_squared_error: 0.1612\n",
      "Epoch 98/125\n",
      "55/55 [==============================] - 1s 23ms/step - loss: 0.1533 - mean_squared_error: 0.1533\n",
      "Epoch 99/125\n",
      "55/55 [==============================] - 1s 24ms/step - loss: 0.1232 - mean_squared_error: 0.1232\n",
      "Epoch 100/125\n",
      "55/55 [==============================] - 1s 22ms/step - loss: 0.1237 - mean_squared_error: 0.1237\n",
      "Epoch 101/125\n",
      "55/55 [==============================] - 1s 21ms/step - loss: 0.1636 - mean_squared_error: 0.1636\n",
      "Epoch 102/125\n",
      "55/55 [==============================] - 1s 22ms/step - loss: 0.1314 - mean_squared_error: 0.1314\n",
      "Epoch 103/125\n",
      "55/55 [==============================] - 1s 23ms/step - loss: 0.1216 - mean_squared_error: 0.1216\n",
      "Epoch 104/125\n",
      "55/55 [==============================] - 1s 22ms/step - loss: 0.1111 - mean_squared_error: 0.1111\n",
      "Epoch 105/125\n",
      "55/55 [==============================] - 1s 24ms/step - loss: 0.0934 - mean_squared_error: 0.0934\n",
      "Epoch 106/125\n",
      "55/55 [==============================] - 1s 23ms/step - loss: 0.2030 - mean_squared_error: 0.2030\n",
      "Epoch 107/125\n",
      "55/55 [==============================] - 1s 22ms/step - loss: 0.1061 - mean_squared_error: 0.1061\n",
      "Epoch 108/125\n",
      "55/55 [==============================] - 1s 24ms/step - loss: 0.1433 - mean_squared_error: 0.1433\n",
      "Epoch 109/125\n",
      "55/55 [==============================] - 1s 24ms/step - loss: 0.0716 - mean_squared_error: 0.0716\n",
      "Epoch 110/125\n",
      "55/55 [==============================] - 1s 21ms/step - loss: 0.0732 - mean_squared_error: 0.0732\n",
      "Epoch 111/125\n",
      "55/55 [==============================] - 1s 21ms/step - loss: 0.1019 - mean_squared_error: 0.1019\n",
      "Epoch 112/125\n",
      "55/55 [==============================] - 1s 21ms/step - loss: 0.0561 - mean_squared_error: 0.0561\n",
      "Epoch 113/125\n",
      "55/55 [==============================] - 1s 21ms/step - loss: 0.1688 - mean_squared_error: 0.1688\n",
      "Epoch 114/125\n",
      "55/55 [==============================] - 1s 21ms/step - loss: 0.0949 - mean_squared_error: 0.0949\n",
      "Epoch 115/125\n",
      "55/55 [==============================] - 1s 22ms/step - loss: 0.0637 - mean_squared_error: 0.0637\n",
      "Epoch 116/125\n",
      "55/55 [==============================] - 1s 21ms/step - loss: 0.0542 - mean_squared_error: 0.0542\n",
      "Epoch 117/125\n",
      "55/55 [==============================] - 1s 23ms/step - loss: 0.0661 - mean_squared_error: 0.0661\n",
      "Epoch 118/125\n",
      "55/55 [==============================] - 1s 23ms/step - loss: 0.0693 - mean_squared_error: 0.0693\n",
      "Epoch 119/125\n",
      "55/55 [==============================] - 1s 21ms/step - loss: 0.1085 - mean_squared_error: 0.1085\n",
      "Epoch 120/125\n",
      "55/55 [==============================] - 1s 21ms/step - loss: 0.1100 - mean_squared_error: 0.1100\n",
      "Epoch 121/125\n",
      "55/55 [==============================] - 1s 21ms/step - loss: 0.2427 - mean_squared_error: 0.2427\n",
      "Epoch 122/125\n",
      "55/55 [==============================] - 1s 21ms/step - loss: 0.3798 - mean_squared_error: 0.3798\n",
      "Epoch 123/125\n",
      "55/55 [==============================] - 1s 21ms/step - loss: 0.5228 - mean_squared_error: 0.5228\n",
      "Epoch 124/125\n",
      "55/55 [==============================] - 1s 24ms/step - loss: 0.5441 - mean_squared_error: 0.5441\n",
      "Epoch 125/125\n",
      "55/55 [==============================] - 1s 23ms/step - loss: 0.2104 - mean_squared_error: 0.2104\n"
     ]
    }
   ],
   "source": [
    "test_size = 55#len(x)\n",
    "hist = lstm.fit(x[:test_size], targets[:test_size], epochs = 125)"
   ]
  },
  {
   "cell_type": "code",
   "execution_count": 210,
   "metadata": {},
   "outputs": [
    {
     "data": {
      "image/png": "[encoded data removed]",
      "text/plain": [
       "<Figure size 432x288 with 1 Axes>"
      ]
     },
     "metadata": {
      "needs_background": "light"
     },
     "output_type": "display_data"
    }
   ],
   "source": [
    "plt.plot(hist.history['loss']);"
   ]
  },
  {
   "cell_type": "code",
   "execution_count": 217,
   "metadata": {},
   "outputs": [
    {
     "data": {
      "text/plain": [
       "9.2"
      ]
     },
     "execution_count": 217,
     "metadata": {},
     "output_type": "execute_result"
    }
   ],
   "source": [
    "num = 12\n",
    "p = x[num]\n",
    "p = p.reshape(1, 6, 512)\n",
    "targets[num]"
   ]
  },
  {
   "cell_type": "code",
   "execution_count": 218,
   "metadata": {},
   "outputs": [
    {
     "data": {
      "text/plain": [
       "array([[9.437326]], dtype=float32)"
      ]
     },
     "execution_count": 218,
     "metadata": {},
     "output_type": "execute_result"
    }
   ],
   "source": [
    "lstm.predict(p)"
   ]
  }
 ],
 "metadata": {
  "kernelspec": {
   "display_name": "Python 2",
   "language": "python",
   "name": "python2"
  },
  "language_info": {
   "codemirror_mode": {
    "name": "ipython",
    "version": 2
   },
   "file_extension": ".py",
   "mimetype": "text/x-python",
   "name": "python",
   "nbconvert_exporter": "python",
   "pygments_lexer": "ipython2",
   "version": "2.7.17"
  }
 },
 "nbformat": 4,
 "nbformat_minor": 2
}
